{
 "cells": [
  {
   "cell_type": "code",
   "execution_count": 5,
   "id": "877b7f07",
   "metadata": {},
   "outputs": [],
   "source": [
    "from pymongo import MongoClient\n",
    "import pandas as pd"
   ]
  },
  {
   "cell_type": "code",
   "execution_count": 6,
   "id": "6115b8d0",
   "metadata": {},
   "outputs": [],
   "source": [
    "client = MongoClient(\"localhost:27017\")"
   ]
  },
  {
   "cell_type": "code",
   "execution_count": 8,
   "id": "0d71ad2d",
   "metadata": {},
   "outputs": [],
   "source": [
    "db = client.get_database(\"ironhack\")"
   ]
  },
  {
   "cell_type": "code",
   "execution_count": 9,
   "id": "19103434",
   "metadata": {},
   "outputs": [],
   "source": [
    "companies = db.get_collection(\"companies\")"
   ]
  },
  {
   "cell_type": "code",
   "execution_count": 20,
   "id": "c3f2710b",
   "metadata": {},
   "outputs": [],
   "source": [
    "Mi_lista= list(companies.find({\"$and\": [{'category_code': 'games_video'},{'founded_year': {\"$gte\": 2010}},{'number_of_employees':{'$gt':60}}]},{'name': 1,'number_of_employees': 1, '_id':0}))"
   ]
  },
  {
   "cell_type": "code",
   "execution_count": 21,
   "id": "9f386e9b",
   "metadata": {},
   "outputs": [
    {
     "data": {
      "text/plain": [
       "[{'name': 'Social Gaming Network', 'number_of_employees': 100}]"
      ]
     },
     "execution_count": 21,
     "metadata": {},
     "output_type": "execute_result"
    }
   ],
   "source": [
    "Mi_lista"
   ]
  },
  {
   "cell_type": "code",
   "execution_count": 38,
   "id": "578c513f",
   "metadata": {},
   "outputs": [],
   "source": [
    "Mi_lista2= list(companies.find({\"$and\": [{'category_code': 'games_video'},{'number_of_employees': {\"$lt\": 100}},{'number_of_employees':{'$gt':60}}]},{'name': 1,'number_of_employees': 1,'founded_year':1,'offices.city':1, 'offices.latitude':1,'offices.longitude': 1,'offices.country_code':1, '_id':0}))"
   ]
  },
  {
   "cell_type": "code",
   "execution_count": 39,
   "id": "a49f340f",
   "metadata": {},
   "outputs": [
    {
     "data": {
      "text/plain": [
       "[{'name': 'Kewego',\n",
       "  'number_of_employees': 65,\n",
       "  'founded_year': 2003,\n",
       "  'offices': [{'city': 'Paris',\n",
       "    'country_code': 'FRA',\n",
       "    'latitude': 46.227638,\n",
       "    'longitude': 2.213749}]},\n",
       " {'name': 'Origin Digital',\n",
       "  'number_of_employees': 80,\n",
       "  'founded_year': 1997,\n",
       "  'offices': [{'city': 'Weehawken',\n",
       "    'country_code': 'USA',\n",
       "    'latitude': 40.761979,\n",
       "    'longitude': -74.026033}]},\n",
       " {'name': 'YUPPTV',\n",
       "  'number_of_employees': 70,\n",
       "  'founded_year': 2008,\n",
       "  'offices': [{'city': 'Alpharetta',\n",
       "    'country_code': 'USA',\n",
       "    'latitude': 17.415429,\n",
       "    'longitude': 78.434422}]},\n",
       " {'name': 'sevenload',\n",
       "  'number_of_employees': 67,\n",
       "  'founded_year': 2006,\n",
       "  'offices': [{'city': 'Cologne',\n",
       "    'country_code': 'DEU',\n",
       "    'latitude': 50.945289,\n",
       "    'longitude': 6.921546}]},\n",
       " {'name': 'Meteor Games',\n",
       "  'number_of_employees': 70,\n",
       "  'founded_year': 2007,\n",
       "  'offices': [{'city': 'Beverly Hills',\n",
       "    'country_code': 'USA',\n",
       "    'latitude': 34.09316,\n",
       "    'longitude': -118.378335}]},\n",
       " {'name': 'TransGaming',\n",
       "  'number_of_employees': 80,\n",
       "  'founded_year': 2001,\n",
       "  'offices': []},\n",
       " {'name': 'Quickflix',\n",
       "  'number_of_employees': 75,\n",
       "  'founded_year': None,\n",
       "  'offices': [{'city': 'Perth',\n",
       "    'country_code': 'AUS',\n",
       "    'latitude': None,\n",
       "    'longitude': None}]},\n",
       " {'name': 'StreamTheWorld',\n",
       "  'number_of_employees': 65,\n",
       "  'founded_year': 2005,\n",
       "  'offices': [{'city': 'MontrÃ©al',\n",
       "    'country_code': 'CAN',\n",
       "    'latitude': 45.4961227,\n",
       "    'longitude': -73.5767499},\n",
       "   {'city': 'Lausanne',\n",
       "    'country_code': 'CHE',\n",
       "    'latitude': 46.5206291,\n",
       "    'longitude': 6.6328274}]},\n",
       " {'name': '[212]Media',\n",
       "  'number_of_employees': 75,\n",
       "  'founded_year': 2004,\n",
       "  'offices': [{'city': 'New York',\n",
       "    'country_code': 'USA',\n",
       "    'latitude': 40.743877,\n",
       "    'longitude': -73.98618}]}]"
      ]
     },
     "execution_count": 39,
     "metadata": {},
     "output_type": "execute_result"
    }
   ],
   "source": [
    "Mi_lista2"
   ]
  },
  {
   "cell_type": "code",
   "execution_count": null,
   "id": "4fc38db3",
   "metadata": {},
   "outputs": [],
   "source": [
    "\n",
    "\n",
    "    "
   ]
  },
  {
   "cell_type": "code",
   "execution_count": 146,
   "id": "11004073",
   "metadata": {},
   "outputs": [],
   "source": [
    "DataFrame= pd.DataFrame(Mi_lista2)"
   ]
  },
  {
   "cell_type": "code",
   "execution_count": 147,
   "id": "a08ff29f",
   "metadata": {},
   "outputs": [],
   "source": [
    "DataFrame=DataFrame.drop(DataFrame.index[5])"
   ]
  },
  {
   "cell_type": "code",
   "execution_count": 148,
   "id": "f0c533d7",
   "metadata": {},
   "outputs": [],
   "source": [
    "DataFrame=DataFrame.reset_index()"
   ]
  },
  {
   "cell_type": "code",
   "execution_count": 149,
   "id": "b31196cd",
   "metadata": {},
   "outputs": [
    {
     "data": {
      "text/html": [
       "<div>\n",
       "<style scoped>\n",
       "    .dataframe tbody tr th:only-of-type {\n",
       "        vertical-align: middle;\n",
       "    }\n",
       "\n",
       "    .dataframe tbody tr th {\n",
       "        vertical-align: top;\n",
       "    }\n",
       "\n",
       "    .dataframe thead th {\n",
       "        text-align: right;\n",
       "    }\n",
       "</style>\n",
       "<table border=\"1\" class=\"dataframe\">\n",
       "  <thead>\n",
       "    <tr style=\"text-align: right;\">\n",
       "      <th></th>\n",
       "      <th>index</th>\n",
       "      <th>name</th>\n",
       "      <th>number_of_employees</th>\n",
       "      <th>founded_year</th>\n",
       "      <th>offices</th>\n",
       "    </tr>\n",
       "  </thead>\n",
       "  <tbody>\n",
       "    <tr>\n",
       "      <th>0</th>\n",
       "      <td>0</td>\n",
       "      <td>Kewego</td>\n",
       "      <td>65</td>\n",
       "      <td>2003.0</td>\n",
       "      <td>[{'city': 'Paris', 'country_code': 'FRA', 'lat...</td>\n",
       "    </tr>\n",
       "    <tr>\n",
       "      <th>1</th>\n",
       "      <td>1</td>\n",
       "      <td>Origin Digital</td>\n",
       "      <td>80</td>\n",
       "      <td>1997.0</td>\n",
       "      <td>[{'city': 'Weehawken', 'country_code': 'USA', ...</td>\n",
       "    </tr>\n",
       "    <tr>\n",
       "      <th>2</th>\n",
       "      <td>2</td>\n",
       "      <td>YUPPTV</td>\n",
       "      <td>70</td>\n",
       "      <td>2008.0</td>\n",
       "      <td>[{'city': 'Alpharetta', 'country_code': 'USA',...</td>\n",
       "    </tr>\n",
       "    <tr>\n",
       "      <th>3</th>\n",
       "      <td>3</td>\n",
       "      <td>sevenload</td>\n",
       "      <td>67</td>\n",
       "      <td>2006.0</td>\n",
       "      <td>[{'city': 'Cologne', 'country_code': 'DEU', 'l...</td>\n",
       "    </tr>\n",
       "    <tr>\n",
       "      <th>4</th>\n",
       "      <td>4</td>\n",
       "      <td>Meteor Games</td>\n",
       "      <td>70</td>\n",
       "      <td>2007.0</td>\n",
       "      <td>[{'city': 'Beverly Hills', 'country_code': 'US...</td>\n",
       "    </tr>\n",
       "    <tr>\n",
       "      <th>5</th>\n",
       "      <td>6</td>\n",
       "      <td>Quickflix</td>\n",
       "      <td>75</td>\n",
       "      <td>NaN</td>\n",
       "      <td>[{'city': 'Perth', 'country_code': 'AUS', 'lat...</td>\n",
       "    </tr>\n",
       "    <tr>\n",
       "      <th>6</th>\n",
       "      <td>7</td>\n",
       "      <td>StreamTheWorld</td>\n",
       "      <td>65</td>\n",
       "      <td>2005.0</td>\n",
       "      <td>[{'city': 'MontrÃ©al', 'country_code': 'CAN', ...</td>\n",
       "    </tr>\n",
       "    <tr>\n",
       "      <th>7</th>\n",
       "      <td>8</td>\n",
       "      <td>[212]Media</td>\n",
       "      <td>75</td>\n",
       "      <td>2004.0</td>\n",
       "      <td>[{'city': 'New York', 'country_code': 'USA', '...</td>\n",
       "    </tr>\n",
       "  </tbody>\n",
       "</table>\n",
       "</div>"
      ],
      "text/plain": [
       "   index            name  number_of_employees  founded_year  \\\n",
       "0      0          Kewego                   65        2003.0   \n",
       "1      1  Origin Digital                   80        1997.0   \n",
       "2      2          YUPPTV                   70        2008.0   \n",
       "3      3       sevenload                   67        2006.0   \n",
       "4      4    Meteor Games                   70        2007.0   \n",
       "5      6       Quickflix                   75           NaN   \n",
       "6      7  StreamTheWorld                   65        2005.0   \n",
       "7      8      [212]Media                   75        2004.0   \n",
       "\n",
       "                                             offices  \n",
       "0  [{'city': 'Paris', 'country_code': 'FRA', 'lat...  \n",
       "1  [{'city': 'Weehawken', 'country_code': 'USA', ...  \n",
       "2  [{'city': 'Alpharetta', 'country_code': 'USA',...  \n",
       "3  [{'city': 'Cologne', 'country_code': 'DEU', 'l...  \n",
       "4  [{'city': 'Beverly Hills', 'country_code': 'US...  \n",
       "5  [{'city': 'Perth', 'country_code': 'AUS', 'lat...  \n",
       "6  [{'city': 'MontrÃ©al', 'country_code': 'CAN', ...  \n",
       "7  [{'city': 'New York', 'country_code': 'USA', '...  "
      ]
     },
     "execution_count": 149,
     "metadata": {},
     "output_type": "execute_result"
    }
   ],
   "source": [
    "DataFrame"
   ]
  },
  {
   "cell_type": "code",
   "execution_count": 150,
   "id": "fa2a53e6",
   "metadata": {},
   "outputs": [
    {
     "data": {
      "text/plain": [
       "'FRA'"
      ]
     },
     "execution_count": 150,
     "metadata": {},
     "output_type": "execute_result"
    }
   ],
   "source": [
    "DataFrame['offices'][0][0]['country_code']"
   ]
  },
  {
   "cell_type": "code",
   "execution_count": 160,
   "id": "4ec20056",
   "metadata": {},
   "outputs": [],
   "source": [
    "Lista_Ciudades= []\n",
    "for i in range(0,8):\n",
    "   Lista_Ciudades.append(DataFrame['offices'][i][0]['city'])"
   ]
  },
  {
   "cell_type": "code",
   "execution_count": 161,
   "id": "a4499e2a",
   "metadata": {},
   "outputs": [
    {
     "data": {
      "text/plain": [
       "['Paris',\n",
       " 'Weehawken',\n",
       " 'Alpharetta',\n",
       " 'Cologne',\n",
       " 'Beverly Hills',\n",
       " 'Perth',\n",
       " 'MontrÃ©al',\n",
       " 'New York']"
      ]
     },
     "execution_count": 161,
     "metadata": {},
     "output_type": "execute_result"
    }
   ],
   "source": [
    "Lista_Ciudades"
   ]
  },
  {
   "cell_type": "code",
   "execution_count": 194,
   "id": "d5a03779",
   "metadata": {},
   "outputs": [],
   "source": [
    "Lista_Paises= []\n",
    "for i in range(0,8):\n",
    "   Lista_Paises.append(DataFrame['offices'][i][0]['country_code'])"
   ]
  },
  {
   "cell_type": "code",
   "execution_count": 195,
   "id": "43c4aaa6",
   "metadata": {},
   "outputs": [
    {
     "data": {
      "text/plain": [
       "['FRA', 'USA', 'USA', 'DEU', 'USA', 'AUS', 'CAN', 'USA']"
      ]
     },
     "execution_count": 195,
     "metadata": {},
     "output_type": "execute_result"
    }
   ],
   "source": [
    "Lista_Paises"
   ]
  },
  {
   "cell_type": "code",
   "execution_count": 196,
   "id": "429698bb",
   "metadata": {},
   "outputs": [],
   "source": [
    "Lista_latitude=[]\n",
    "for i in range(0,8):\n",
    "   Lista_latitude.append(DataFrame['offices'][i][0]['latitude'])"
   ]
  },
  {
   "cell_type": "code",
   "execution_count": 197,
   "id": "6adeeb48",
   "metadata": {},
   "outputs": [
    {
     "data": {
      "text/plain": [
       "[46.227638,\n",
       " 40.761979,\n",
       " 17.415429,\n",
       " 50.945289,\n",
       " 34.09316,\n",
       " None,\n",
       " 45.4961227,\n",
       " 40.743877]"
      ]
     },
     "execution_count": 197,
     "metadata": {},
     "output_type": "execute_result"
    }
   ],
   "source": [
    "Lista_latitude"
   ]
  },
  {
   "cell_type": "code",
   "execution_count": 198,
   "id": "aea3c3dd",
   "metadata": {},
   "outputs": [],
   "source": [
    "Lista_longitude=[]\n",
    "for i in range(0,8):\n",
    "   Lista_longitude.append(DataFrame['offices'][i][0]['longitude'])"
   ]
  },
  {
   "cell_type": "code",
   "execution_count": 199,
   "id": "73ab2d91",
   "metadata": {},
   "outputs": [
    {
     "data": {
      "text/plain": [
       "[2.213749,\n",
       " -74.026033,\n",
       " 78.434422,\n",
       " 6.921546,\n",
       " -118.378335,\n",
       " None,\n",
       " -73.5767499,\n",
       " -73.98618]"
      ]
     },
     "execution_count": 199,
     "metadata": {},
     "output_type": "execute_result"
    }
   ],
   "source": [
    "Lista_longitude"
   ]
  },
  {
   "cell_type": "code",
   "execution_count": 200,
   "id": "85bea792",
   "metadata": {},
   "outputs": [],
   "source": [
    "DataFrame['City']= Lista_Ciudades"
   ]
  },
  {
   "cell_type": "code",
   "execution_count": 201,
   "id": "26152a62",
   "metadata": {},
   "outputs": [],
   "source": [
    "DataFrame['Country']= Lista_Paises"
   ]
  },
  {
   "cell_type": "code",
   "execution_count": 202,
   "id": "d2feaa19",
   "metadata": {},
   "outputs": [],
   "source": [
    "DataFrame['Latitude']= Lista_latitude"
   ]
  },
  {
   "cell_type": "code",
   "execution_count": 203,
   "id": "3d855baa",
   "metadata": {},
   "outputs": [],
   "source": [
    "DataFrame['Longitude']= Lista_longitude"
   ]
  },
  {
   "cell_type": "code",
   "execution_count": 207,
   "id": "ea93890d",
   "metadata": {},
   "outputs": [],
   "source": [
    "DataFrame= DataFrame.drop(['offices'], axis=1)"
   ]
  },
  {
   "cell_type": "code",
   "execution_count": 211,
   "id": "76cdb77c",
   "metadata": {},
   "outputs": [
    {
     "data": {
      "text/html": [
       "<div>\n",
       "<style scoped>\n",
       "    .dataframe tbody tr th:only-of-type {\n",
       "        vertical-align: middle;\n",
       "    }\n",
       "\n",
       "    .dataframe tbody tr th {\n",
       "        vertical-align: top;\n",
       "    }\n",
       "\n",
       "    .dataframe thead th {\n",
       "        text-align: right;\n",
       "    }\n",
       "</style>\n",
       "<table border=\"1\" class=\"dataframe\">\n",
       "  <thead>\n",
       "    <tr style=\"text-align: right;\">\n",
       "      <th></th>\n",
       "      <th>index</th>\n",
       "      <th>name</th>\n",
       "      <th>number_of_employees</th>\n",
       "      <th>founded_year</th>\n",
       "      <th>City</th>\n",
       "      <th>Country</th>\n",
       "      <th>Latitude</th>\n",
       "      <th>Longitude</th>\n",
       "    </tr>\n",
       "  </thead>\n",
       "  <tbody>\n",
       "    <tr>\n",
       "      <th>0</th>\n",
       "      <td>0</td>\n",
       "      <td>Kewego</td>\n",
       "      <td>65</td>\n",
       "      <td>2003.0</td>\n",
       "      <td>Paris</td>\n",
       "      <td>FRA</td>\n",
       "      <td>46.227638</td>\n",
       "      <td>2.213749</td>\n",
       "    </tr>\n",
       "    <tr>\n",
       "      <th>1</th>\n",
       "      <td>1</td>\n",
       "      <td>Origin Digital</td>\n",
       "      <td>80</td>\n",
       "      <td>1997.0</td>\n",
       "      <td>Weehawken</td>\n",
       "      <td>USA</td>\n",
       "      <td>40.761979</td>\n",
       "      <td>-74.026033</td>\n",
       "    </tr>\n",
       "    <tr>\n",
       "      <th>2</th>\n",
       "      <td>2</td>\n",
       "      <td>YUPPTV</td>\n",
       "      <td>70</td>\n",
       "      <td>2008.0</td>\n",
       "      <td>Alpharetta</td>\n",
       "      <td>USA</td>\n",
       "      <td>17.415429</td>\n",
       "      <td>78.434422</td>\n",
       "    </tr>\n",
       "    <tr>\n",
       "      <th>3</th>\n",
       "      <td>3</td>\n",
       "      <td>sevenload</td>\n",
       "      <td>67</td>\n",
       "      <td>2006.0</td>\n",
       "      <td>Cologne</td>\n",
       "      <td>DEU</td>\n",
       "      <td>50.945289</td>\n",
       "      <td>6.921546</td>\n",
       "    </tr>\n",
       "    <tr>\n",
       "      <th>4</th>\n",
       "      <td>4</td>\n",
       "      <td>Meteor Games</td>\n",
       "      <td>70</td>\n",
       "      <td>2007.0</td>\n",
       "      <td>Beverly Hills</td>\n",
       "      <td>USA</td>\n",
       "      <td>34.093160</td>\n",
       "      <td>-118.378335</td>\n",
       "    </tr>\n",
       "    <tr>\n",
       "      <th>5</th>\n",
       "      <td>6</td>\n",
       "      <td>Quickflix</td>\n",
       "      <td>75</td>\n",
       "      <td>NaN</td>\n",
       "      <td>Perth</td>\n",
       "      <td>AUS</td>\n",
       "      <td>NaN</td>\n",
       "      <td>NaN</td>\n",
       "    </tr>\n",
       "    <tr>\n",
       "      <th>6</th>\n",
       "      <td>7</td>\n",
       "      <td>StreamTheWorld</td>\n",
       "      <td>65</td>\n",
       "      <td>2005.0</td>\n",
       "      <td>MontrÃ©al</td>\n",
       "      <td>CAN</td>\n",
       "      <td>45.496123</td>\n",
       "      <td>-73.576750</td>\n",
       "    </tr>\n",
       "    <tr>\n",
       "      <th>7</th>\n",
       "      <td>8</td>\n",
       "      <td>[212]Media</td>\n",
       "      <td>75</td>\n",
       "      <td>2004.0</td>\n",
       "      <td>New York</td>\n",
       "      <td>USA</td>\n",
       "      <td>40.743877</td>\n",
       "      <td>-73.986180</td>\n",
       "    </tr>\n",
       "  </tbody>\n",
       "</table>\n",
       "</div>"
      ],
      "text/plain": [
       "   index            name  number_of_employees  founded_year           City  \\\n",
       "0      0          Kewego                   65        2003.0          Paris   \n",
       "1      1  Origin Digital                   80        1997.0      Weehawken   \n",
       "2      2          YUPPTV                   70        2008.0     Alpharetta   \n",
       "3      3       sevenload                   67        2006.0        Cologne   \n",
       "4      4    Meteor Games                   70        2007.0  Beverly Hills   \n",
       "5      6       Quickflix                   75           NaN          Perth   \n",
       "6      7  StreamTheWorld                   65        2005.0      MontrÃ©al   \n",
       "7      8      [212]Media                   75        2004.0       New York   \n",
       "\n",
       "  Country   Latitude   Longitude  \n",
       "0     FRA  46.227638    2.213749  \n",
       "1     USA  40.761979  -74.026033  \n",
       "2     USA  17.415429   78.434422  \n",
       "3     DEU  50.945289    6.921546  \n",
       "4     USA  34.093160 -118.378335  \n",
       "5     AUS        NaN         NaN  \n",
       "6     CAN  45.496123  -73.576750  \n",
       "7     USA  40.743877  -73.986180  "
      ]
     },
     "execution_count": 211,
     "metadata": {},
     "output_type": "execute_result"
    }
   ],
   "source": [
    "DataFrame"
   ]
  },
  {
   "cell_type": "markdown",
   "id": "ef63004e",
   "metadata": {},
   "source": [
    "Me voy a quedar con las empresas de Nueva York, Paris, y Beverly Hills, dado que considero que son las ciudades dónde hay más infraestructura además de que todas ellas se han fundado entre 2000 y 2010, y tienen un número de empleados similar al de mi empresa"
   ]
  },
  {
   "cell_type": "code",
   "execution_count": 213,
   "id": "4bce60a3",
   "metadata": {},
   "outputs": [],
   "source": [
    "DataFrame= DataFrame.drop([1,2,3,5,6])"
   ]
  },
  {
   "cell_type": "code",
   "execution_count": 215,
   "id": "311d2348",
   "metadata": {},
   "outputs": [],
   "source": [
    "DataFrame=DataFrame.reset_index()"
   ]
  },
  {
   "cell_type": "code",
   "execution_count": 223,
   "id": "fb430bd7",
   "metadata": {},
   "outputs": [],
   "source": [
    "DataFrame= DataFrame.drop(['index'], axis=1)"
   ]
  },
  {
   "cell_type": "code",
   "execution_count": 225,
   "id": "d33cad54",
   "metadata": {},
   "outputs": [],
   "source": [
    "DataFrameLimpito= DataFrame"
   ]
  },
  {
   "cell_type": "code",
   "execution_count": 226,
   "id": "95615819",
   "metadata": {},
   "outputs": [],
   "source": [
    "DataFrameLimpito.to_csv(\"data/DataFrame.csv\")"
   ]
  },
  {
   "cell_type": "code",
   "execution_count": null,
   "id": "599c2b6c",
   "metadata": {},
   "outputs": [],
   "source": []
  }
 ],
 "metadata": {
  "kernelspec": {
   "display_name": "Ironhack",
   "language": "python",
   "name": "ironhack"
  },
  "language_info": {
   "codemirror_mode": {
    "name": "ipython",
    "version": 3
   },
   "file_extension": ".py",
   "mimetype": "text/x-python",
   "name": "python",
   "nbconvert_exporter": "python",
   "pygments_lexer": "ipython3",
   "version": "3.8.12"
  }
 },
 "nbformat": 4,
 "nbformat_minor": 5
}
